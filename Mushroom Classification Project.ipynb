{
 "cells": [
  {
   "cell_type": "markdown",
   "id": "21da4709",
   "metadata": {},
   "source": [
    "# Mushroom Classification Project\n",
    "\n",
    "## Project Description\n",
    "This project focuses on classifying mushrooms as edible or poisonous using a classification model. The dataset contains various features of mushrooms that can help determine their edibility. The goal is to build a robust classification model to assist in identifying whether a mushroom is safe to eat or not.\n"
   ]
  },
  {
   "cell_type": "markdown",
   "id": "0fd8c1bd",
   "metadata": {},
   "source": [
    "## Dataset Description\n",
    "The Mushroom Classification dataset is sourced from the UCI Machine Learning Repository. It includes 22 categorical features and one target variable, which indicates whether a mushroom is edible or poisonous.\n",
    "\n",
    "- **class:** Edible (e) or Poisonous (p)\n",
    "- **cap-shape:** bell=b, conical=c, convex=x, flat=f, knobbed=k, sunken=s\n",
    "- **cap-surface:** fibrous=f, grooves=g, scaly=y, smooth=s\n",
    "- **cap-color:** brown=n, buff=b, cinnamon=c, gray=g, green=r, pink=p, purple=u, red=e, white=w, yellow=y\n",
    "- **bruises:** bruises=t, no=f\n",
    "- **odor:** almond=a, anise=l, creosote=c, fishy=y, foul=f, musty=m, none=n, pungent=p, spicy=s\n",
    "- **gill-attachment:** attached=a, descending=d, free=f, notched=n\n",
    "- **gill-spacing:** close=c, crowded=w, distant=d\n",
    "- **gill-size:** broad=b, narrow=n\n",
    "- **gill-color:** black=k, brown=n, buff=b, chocolate=h, gray=g, green=r, orange=o, pink=p, purple=u, red=e, white=w, yellow=y\n",
    "- **stalk-shape:** enlarging=e, tapering=t\n",
    "- **stalk-root:** bulbous=b, club=c, cup=u, equal=e, rhizomorphs=z, rooted=r, missing=?\n",
    "- **stalk-surface-above-ring:** fibrous=f, scaly=y, silky=k, smooth=s\n",
    "- **stalk-surface-below-ring:** fibrous=f, scaly=y, silky=k, smooth=s\n",
    "- **stalk-color-above-ring:** brown=n, buff=b, cinnamon=c, gray=g, orange=o, pink=p, red=e, white=w, yellow=y\n",
    "- **stalk-color-below-ring:** brown=n, buff=b, cinnamon=c, gray=g, orange=o, pink=p, red=e, white=w, yellow=y\n",
    "- **veil-type:** partial=p, universal=u\n",
    "- **veil-color:** brown=n, orange=o, white=w, yellow=y\n",
    "- **ring-number:** none=n, one=o, two=t\n",
    "- **ring-type:** cobwebby=c, evanescent=e, flaring=f, large=l, none=n, pendant=p, sheathing=s, zone=z\n",
    "- **spore-print-color:** black=k, brown=n, buff=b, chocolate=h, green=r, orange=o, purple=u, white=w, yellow=y\n",
    "- **population:** abundant=a, clustered=c, numerous=n, scattered=s, several=v, solitary=y\n",
    "- **habitat:** grasses=g, leaves=l, meadows=m, paths=p, urban=u, waste=w, woods=d"
   ]
  },
  {
   "cell_type": "markdown",
   "id": "017340b2",
   "metadata": {},
   "source": [
    "### Data Preprocessing\n",
    "Let's load and preprocess the data. Here's an example of how to get started:"
   ]
  },
  {
   "cell_type": "code",
   "execution_count": 1,
   "id": "18c8e2eb",
   "metadata": {
    "scrolled": false
   },
   "outputs": [
    {
     "data": {
      "text/html": [
       "<div>\n",
       "<style scoped>\n",
       "    .dataframe tbody tr th:only-of-type {\n",
       "        vertical-align: middle;\n",
       "    }\n",
       "\n",
       "    .dataframe tbody tr th {\n",
       "        vertical-align: top;\n",
       "    }\n",
       "\n",
       "    .dataframe thead th {\n",
       "        text-align: right;\n",
       "    }\n",
       "</style>\n",
       "<table border=\"1\" class=\"dataframe\">\n",
       "  <thead>\n",
       "    <tr style=\"text-align: right;\">\n",
       "      <th></th>\n",
       "      <th>class</th>\n",
       "      <th>cap-shape</th>\n",
       "      <th>cap-surface</th>\n",
       "      <th>cap-color</th>\n",
       "      <th>bruises</th>\n",
       "      <th>odor</th>\n",
       "      <th>gill-attachment</th>\n",
       "      <th>gill-spacing</th>\n",
       "      <th>gill-size</th>\n",
       "      <th>gill-color</th>\n",
       "      <th>...</th>\n",
       "      <th>stalk-surface-below-ring</th>\n",
       "      <th>stalk-color-above-ring</th>\n",
       "      <th>stalk-color-below-ring</th>\n",
       "      <th>veil-type</th>\n",
       "      <th>veil-color</th>\n",
       "      <th>ring-number</th>\n",
       "      <th>ring-type</th>\n",
       "      <th>spore-print-color</th>\n",
       "      <th>population</th>\n",
       "      <th>habitat</th>\n",
       "    </tr>\n",
       "  </thead>\n",
       "  <tbody>\n",
       "    <tr>\n",
       "      <th>0</th>\n",
       "      <td>p</td>\n",
       "      <td>x</td>\n",
       "      <td>s</td>\n",
       "      <td>n</td>\n",
       "      <td>t</td>\n",
       "      <td>p</td>\n",
       "      <td>f</td>\n",
       "      <td>c</td>\n",
       "      <td>n</td>\n",
       "      <td>k</td>\n",
       "      <td>...</td>\n",
       "      <td>s</td>\n",
       "      <td>w</td>\n",
       "      <td>w</td>\n",
       "      <td>p</td>\n",
       "      <td>w</td>\n",
       "      <td>o</td>\n",
       "      <td>p</td>\n",
       "      <td>k</td>\n",
       "      <td>s</td>\n",
       "      <td>u</td>\n",
       "    </tr>\n",
       "    <tr>\n",
       "      <th>1</th>\n",
       "      <td>e</td>\n",
       "      <td>x</td>\n",
       "      <td>s</td>\n",
       "      <td>y</td>\n",
       "      <td>t</td>\n",
       "      <td>a</td>\n",
       "      <td>f</td>\n",
       "      <td>c</td>\n",
       "      <td>b</td>\n",
       "      <td>k</td>\n",
       "      <td>...</td>\n",
       "      <td>s</td>\n",
       "      <td>w</td>\n",
       "      <td>w</td>\n",
       "      <td>p</td>\n",
       "      <td>w</td>\n",
       "      <td>o</td>\n",
       "      <td>p</td>\n",
       "      <td>n</td>\n",
       "      <td>n</td>\n",
       "      <td>g</td>\n",
       "    </tr>\n",
       "    <tr>\n",
       "      <th>2</th>\n",
       "      <td>e</td>\n",
       "      <td>b</td>\n",
       "      <td>s</td>\n",
       "      <td>w</td>\n",
       "      <td>t</td>\n",
       "      <td>l</td>\n",
       "      <td>f</td>\n",
       "      <td>c</td>\n",
       "      <td>b</td>\n",
       "      <td>n</td>\n",
       "      <td>...</td>\n",
       "      <td>s</td>\n",
       "      <td>w</td>\n",
       "      <td>w</td>\n",
       "      <td>p</td>\n",
       "      <td>w</td>\n",
       "      <td>o</td>\n",
       "      <td>p</td>\n",
       "      <td>n</td>\n",
       "      <td>n</td>\n",
       "      <td>m</td>\n",
       "    </tr>\n",
       "    <tr>\n",
       "      <th>3</th>\n",
       "      <td>p</td>\n",
       "      <td>x</td>\n",
       "      <td>y</td>\n",
       "      <td>w</td>\n",
       "      <td>t</td>\n",
       "      <td>p</td>\n",
       "      <td>f</td>\n",
       "      <td>c</td>\n",
       "      <td>n</td>\n",
       "      <td>n</td>\n",
       "      <td>...</td>\n",
       "      <td>s</td>\n",
       "      <td>w</td>\n",
       "      <td>w</td>\n",
       "      <td>p</td>\n",
       "      <td>w</td>\n",
       "      <td>o</td>\n",
       "      <td>p</td>\n",
       "      <td>k</td>\n",
       "      <td>s</td>\n",
       "      <td>u</td>\n",
       "    </tr>\n",
       "    <tr>\n",
       "      <th>4</th>\n",
       "      <td>e</td>\n",
       "      <td>x</td>\n",
       "      <td>s</td>\n",
       "      <td>g</td>\n",
       "      <td>f</td>\n",
       "      <td>n</td>\n",
       "      <td>f</td>\n",
       "      <td>w</td>\n",
       "      <td>b</td>\n",
       "      <td>k</td>\n",
       "      <td>...</td>\n",
       "      <td>s</td>\n",
       "      <td>w</td>\n",
       "      <td>w</td>\n",
       "      <td>p</td>\n",
       "      <td>w</td>\n",
       "      <td>o</td>\n",
       "      <td>e</td>\n",
       "      <td>n</td>\n",
       "      <td>a</td>\n",
       "      <td>g</td>\n",
       "    </tr>\n",
       "  </tbody>\n",
       "</table>\n",
       "<p>5 rows × 23 columns</p>\n",
       "</div>"
      ],
      "text/plain": [
       "  class cap-shape cap-surface cap-color bruises odor gill-attachment  \\\n",
       "0     p         x           s         n       t    p               f   \n",
       "1     e         x           s         y       t    a               f   \n",
       "2     e         b           s         w       t    l               f   \n",
       "3     p         x           y         w       t    p               f   \n",
       "4     e         x           s         g       f    n               f   \n",
       "\n",
       "  gill-spacing gill-size gill-color  ... stalk-surface-below-ring  \\\n",
       "0            c         n          k  ...                        s   \n",
       "1            c         b          k  ...                        s   \n",
       "2            c         b          n  ...                        s   \n",
       "3            c         n          n  ...                        s   \n",
       "4            w         b          k  ...                        s   \n",
       "\n",
       "  stalk-color-above-ring stalk-color-below-ring veil-type veil-color  \\\n",
       "0                      w                      w         p          w   \n",
       "1                      w                      w         p          w   \n",
       "2                      w                      w         p          w   \n",
       "3                      w                      w         p          w   \n",
       "4                      w                      w         p          w   \n",
       "\n",
       "  ring-number ring-type spore-print-color population habitat  \n",
       "0           o         p                 k          s       u  \n",
       "1           o         p                 n          n       g  \n",
       "2           o         p                 n          n       m  \n",
       "3           o         p                 k          s       u  \n",
       "4           o         e                 n          a       g  \n",
       "\n",
       "[5 rows x 23 columns]"
      ]
     },
     "execution_count": 1,
     "metadata": {},
     "output_type": "execute_result"
    }
   ],
   "source": [
    "import pandas as pd\n",
    "\n",
    "# Load the dataset\n",
    "url = 'https://archive.ics.uci.edu/ml/machine-learning-databases/mushroom/agaricus-lepiota.data'\n",
    "column_names = [\n",
    "    'class', 'cap-shape', 'cap-surface', 'cap-color', 'bruises', 'odor',\n",
    "    'gill-attachment', 'gill-spacing', 'gill-size', 'gill-color', 'stalk-shape',\n",
    "    'stalk-root', 'stalk-surface-above-ring', 'stalk-surface-below-ring',\n",
    "    'stalk-color-above-ring', 'stalk-color-below-ring', 'veil-type', 'veil-color',\n",
    "    'ring-number', 'ring-type', 'spore-print-color', 'population', 'habitat'\n",
    "]\n",
    "df = pd.read_csv(url, header=None, names=column_names)\n",
    "\n",
    "# Display the first few rows of the dataset\n",
    "df.head()"
   ]
  },
  {
   "cell_type": "markdown",
   "id": "96d3bb52",
   "metadata": {},
   "source": [
    "### Exploratory Data Analysis (EDA)\n",
    "Perform some exploratory data analysis to understand the dataset better:\n",
    "### Checking for Missing Values"
   ]
  },
  {
   "cell_type": "code",
   "execution_count": 3,
   "id": "3d9856a0",
   "metadata": {
    "scrolled": false
   },
   "outputs": [
    {
     "name": "stdout",
     "output_type": "stream",
     "text": [
      "class                       0\n",
      "cap-shape                   0\n",
      "cap-surface                 0\n",
      "cap-color                   0\n",
      "bruises                     0\n",
      "odor                        0\n",
      "gill-attachment             0\n",
      "gill-spacing                0\n",
      "gill-size                   0\n",
      "gill-color                  0\n",
      "stalk-shape                 0\n",
      "stalk-root                  0\n",
      "stalk-surface-above-ring    0\n",
      "stalk-surface-below-ring    0\n",
      "stalk-color-above-ring      0\n",
      "stalk-color-below-ring      0\n",
      "veil-type                   0\n",
      "veil-color                  0\n",
      "ring-number                 0\n",
      "ring-type                   0\n",
      "spore-print-color           0\n",
      "population                  0\n",
      "habitat                     0\n",
      "dtype: int64\n"
     ]
    }
   ],
   "source": [
    "import seaborn as sns\n",
    "import matplotlib.pyplot as plt\n",
    "\n",
    "# Check for missing values\n",
    "print(df.isnull().sum())"
   ]
  },
  {
   "cell_type": "markdown",
   "id": "d397c92e",
   "metadata": {},
   "source": [
    "### Class Distribution\n",
    "The class distribution shows the balance between edible and poisonous mushrooms."
   ]
  },
  {
   "cell_type": "code",
   "execution_count": 9,
   "id": "2d4bfcce",
   "metadata": {
    "scrolled": true
   },
   "outputs": [
    {
     "data": {
      "image/png": "[encoded data removed]",
      "text/plain": [
       "<Figure size 640x480 with 1 Axes>"
      ]
     },
     "metadata": {},
     "output_type": "display_data"
    }
   ],
   "source": [
    "# Display class distribution\n",
    "sns.countplot(x='class', data=df)\n",
    "plt.title('Class Distribution')\n",
    "plt.show()"
   ]
  },
  {
   "cell_type": "markdown",
   "id": "d005ab23",
   "metadata": {},
   "source": [
    "### Feature Distributions\n",
    "Visualizing the distribution of key features to understand their impact on classification."
   ]
  },
  {
   "cell_type": "code",
   "execution_count": 10,
   "id": "0d4f39dc",
   "metadata": {},
   "outputs": [
    {
     "data": {
      "image/png": "[encoded data removed]",
      "text/plain": [
       "<Figure size 640x480 with 1 Axes>"
      ]
     },
     "metadata": {},
     "output_type": "display_data"
    },
    {
     "data": {
      "image/png": "[encoded data removed]",
      "text/plain": [
       "<Figure size 640x480 with 1 Axes>"
      ]
     },
     "metadata": {},
     "output_type": "display_data"
    }
   ],
   "source": [
    "# Display the distribution of a few features\n",
    "sns.countplot(x='cap-shape', data=df)\n",
    "plt.title('Cap Shape Distribution')\n",
    "plt.show()\n",
    "\n",
    "sns.countplot(x='odor', data=df)\n",
    "plt.title('Odor Distribution')\n",
    "plt.show()"
   ]
  },
  {
   "cell_type": "markdown",
   "id": "3f01a3f2",
   "metadata": {},
   "source": [
    "## Data Preprocessing\n",
    "\n"
   ]
  },
  {
   "cell_type": "markdown",
   "id": "5ac7500d",
   "metadata": {},
   "source": [
    "### Encoding Categorical Variables\n",
    "Encoding categorical variables using LabelEncoder."
   ]
  },
  {
   "cell_type": "code",
   "execution_count": 5,
   "id": "8af55de1",
   "metadata": {},
   "outputs": [],
   "source": [
    "from sklearn.preprocessing import LabelEncoder\n",
    "from sklearn.model_selection import train_test_split\n",
    "\n",
    "# Encode categorical variables\n",
    "label_encoders = {}\n",
    "for column in df.columns:\n",
    "    label_encoders[column] = LabelEncoder()\n",
    "    df[column] = label_encoders[column].fit_transform(df[column])\n",
    "\n",
    "# Split the data into features and target\n",
    "X = df.drop('class', axis=1)\n",
    "y = df['class']\n",
    "\n",
    "# Split the data into training and testing sets\n",
    "X_train, X_test, y_train, y_test = train_test_split(X, y, test_size=0.3, random_state=42)\n"
   ]
  },
  {
   "cell_type": "markdown",
   "id": "e6fb7baa",
   "metadata": {},
   "source": [
    "### Model Building\n"
   ]
  },
  {
   "cell_type": "markdown",
   "id": "9690c3eb",
   "metadata": {},
   "source": [
    "### Random Forest Classifier\n",
    "Building a Random Forest classifier to predict whether a mushroom is edible or poisonous."
   ]
  },
  {
   "cell_type": "code",
   "execution_count": 11,
   "id": "55c24f0a",
   "metadata": {},
   "outputs": [],
   "source": [
    "from sklearn.ensemble import RandomForestClassifier\n",
    "from sklearn.metrics import accuracy_score, classification_report, confusion_matrix\n",
    "\n",
    "# Build the model\n",
    "model = RandomForestClassifier(random_state=42)\n",
    "model.fit(X_train, y_train)\n",
    "\n",
    "# Make predictions\n",
    "y_pred = model.predict(X_test)"
   ]
  },
  {
   "cell_type": "markdown",
   "id": "1f1ad47d",
   "metadata": {},
   "source": [
    "### Accuracy and Classification Report\n",
    "Evaluating the model using accuracy, classification report, and confusion matrix."
   ]
  },
  {
   "cell_type": "code",
   "execution_count": 12,
   "id": "63cfbe01",
   "metadata": {},
   "outputs": [
    {
     "name": "stdout",
     "output_type": "stream",
     "text": [
      "Accuracy: 1.00\n",
      "Classification Report:\n",
      "              precision    recall  f1-score   support\n",
      "\n",
      "           0       1.00      1.00      1.00      1257\n",
      "           1       1.00      1.00      1.00      1181\n",
      "\n",
      "    accuracy                           1.00      2438\n",
      "   macro avg       1.00      1.00      1.00      2438\n",
      "weighted avg       1.00      1.00      1.00      2438\n",
      "\n",
      "Confusion Matrix:\n",
      "[[1257    0]\n",
      " [   0 1181]]\n"
     ]
    }
   ],
   "source": [
    "# Evaluate the model\n",
    "accuracy = accuracy_score(y_test, y_pred)\n",
    "print(f'Accuracy: {accuracy:.2f}')\n",
    "print('Classification Report:')\n",
    "print(classification_report(y_test, y_pred))\n",
    "print('Confusion Matrix:')\n",
    "print(confusion_matrix(y_test, y_pred))"
   ]
  },
  {
   "cell_type": "markdown",
   "id": "4bbe764c",
   "metadata": {},
   "source": [
    "## Testing with New Data"
   ]
  },
  {
   "cell_type": "markdown",
   "id": "b98304ba",
   "metadata": {},
   "source": [
    "### Testing with Arbitrary Input Values\n",
    "Testing the model with new arbitrary input values to demonstrate its practical application."
   ]
  },
  {
   "cell_type": "code",
   "execution_count": 7,
   "id": "c44b4f0b",
   "metadata": {},
   "outputs": [
    {
     "name": "stdout",
     "output_type": "stream",
     "text": [
      "Predicted Class: p\n"
     ]
    },
    {
     "name": "stderr",
     "output_type": "stream",
     "text": [
      "C:\\Users\\hassa\\anaconda3\\Lib\\site-packages\\sklearn\\base.py:464: UserWarning: X does not have valid feature names, but RandomForestClassifier was fitted with feature names\n",
      "  warnings.warn(\n"
     ]
    }
   ],
   "source": [
    "# Define new input values\n",
    "new_input = [0, 2, 5, 4, 1, 2, 3, 6, 4, 0, 1, 2, 2, 4, 4, 1, 0, 2, 0, 1, 2, 5]\n",
    "\n",
    "# Predict the class\n",
    "new_prediction = model.predict([new_input])\n",
    "predicted_class = label_encoders['class'].inverse_transform(new_prediction)\n",
    "print(f'Predicted Class: {predicted_class[0]}')"
   ]
  },
  {
   "cell_type": "markdown",
   "id": "07c7f042",
   "metadata": {},
   "source": [
    "## Conclusion\n",
    "\n",
    "### Summary of Findings\n",
    "- The model achieved an accuracy of 1.00, indicating strong performance in classifying mushrooms as edible or poisonous.\n",
    "- Key features influencing the classification include odor, cap color, and gill size.\n",
    "\n",
    "### Next Steps\n",
    "- Further analysis can be done by exploring other classification algorithms or fine-tuning the current model.\n",
    "- Additional features or external data sources could be integrated to improve model performance.\n"
   ]
  },
  {
   "cell_type": "code",
   "execution_count": null,
   "id": "7cdfcac2",
   "metadata": {},
   "outputs": [],
   "source": []
  }
 ],
 "metadata": {
  "kernelspec": {
   "display_name": "Python 3 (ipykernel)",
   "language": "python",
   "name": "python3"
  },
  "language_info": {
   "codemirror_mode": {
    "name": "ipython",
    "version": 3
   },
   "file_extension": ".py",
   "mimetype": "text/x-python",
   "name": "python",
   "nbconvert_exporter": "python",
   "pygments_lexer": "ipython3",
   "version": "3.11.5"
  }
 },
 "nbformat": 4,
 "nbformat_minor": 5
}
